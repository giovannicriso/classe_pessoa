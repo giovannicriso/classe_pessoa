{
 "cells": [
  {
   "cell_type": "code",
   "execution_count": 105,
   "metadata": {},
   "outputs": [],
   "source": [
    "class aluno():\n",
    "    def __init__(self, nome, num_ufu):    #metodo para inicialização\n",
    "        self.nome = nome\n",
    "        self.num_ufu = num_ufu\n",
    "        self.notas = []\n",
    "    def imprime_ficha(self):\n",
    "        print('Nome:', self.nome)\n",
    "        print('UFU:', self.num_ufu)\n",
    "        print('Nota:', self.notas)\n",
    "        print('Media', self.media)\n",
    "    \n",
    "    def atribuir_nota(self, nota):\n",
    "        self.notas.append(nota)\n",
    "    def calcular_media(self, num_atividades):\n",
    "        self.media = sum(self.notas) / num_atividades"
   ]
  },
  {
   "cell_type": "code",
   "execution_count": 106,
   "metadata": {},
   "outputs": [],
   "source": [
    "giovanni = aluno(\"Giovanni Criso\", \"123FIS123456\")\n",
    "felipe = aluno(\"Felipe Criso\", \"123BMD123456\")"
   ]
  },
  {
   "cell_type": "code",
   "execution_count": 108,
   "metadata": {},
   "outputs": [],
   "source": [
    "giovanni.atribuir_nota(7)\n",
    "giovanni.atribuir_nota(8)\n",
    "felipe.atribuir_nota(10)\n",
    "felipe.atribuir_nota(8)"
   ]
  },
  {
   "cell_type": "code",
   "execution_count": 97,
   "metadata": {},
   "outputs": [],
   "source": [
    "#print(giovanni.num_ufu, giovanni.nome, giovanni.notas)"
   ]
  },
  {
   "cell_type": "code",
   "execution_count": 109,
   "metadata": {},
   "outputs": [
    {
     "name": "stdout",
     "output_type": "stream",
     "text": [
      "Nome: Giovanni Criso\n",
      "UFU: 123FIS123456\n",
      "Nota: [7, 8, 7, 8]\n",
      "Media 7.5\n"
     ]
    }
   ],
   "source": [
    "giovanni.calcular_media(4)\n",
    "giovanni.imprime_ficha()"
   ]
  },
  {
   "cell_type": "code",
   "execution_count": 110,
   "metadata": {},
   "outputs": [
    {
     "name": "stdout",
     "output_type": "stream",
     "text": [
      "Nome: Felipe Criso\n",
      "UFU: 123BMD123456\n",
      "Nota: [10, 8, 10, 8]\n",
      "Media 9.0\n"
     ]
    }
   ],
   "source": [
    "felipe.calcular_media(4)\n",
    "felipe.imprime_ficha()"
   ]
  },
  {
   "cell_type": "code",
   "execution_count": 111,
   "metadata": {},
   "outputs": [
    {
     "name": "stdout",
     "output_type": "stream",
     "text": [
      "7.5\n"
     ]
    }
   ],
   "source": [
    "print(giovanni.media)"
   ]
  },
  {
   "cell_type": "code",
   "execution_count": 112,
   "metadata": {},
   "outputs": [
    {
     "name": "stdout",
     "output_type": "stream",
     "text": [
      "9.0\n"
     ]
    }
   ],
   "source": [
    "print(felipe.media)"
   ]
  },
  {
   "cell_type": "code",
   "execution_count": 113,
   "metadata": {},
   "outputs": [
    {
     "data": {
      "text/plain": [
       "[7, 8, 7, 8]"
      ]
     },
     "execution_count": 113,
     "metadata": {},
     "output_type": "execute_result"
    }
   ],
   "source": [
    "giovanni.notas"
   ]
  },
  {
   "cell_type": "code",
   "execution_count": 114,
   "metadata": {},
   "outputs": [
    {
     "data": {
      "text/plain": [
       "list"
      ]
     },
     "execution_count": 114,
     "metadata": {},
     "output_type": "execute_result"
    }
   ],
   "source": [
    "type(giovanni.notas)"
   ]
  },
  {
   "cell_type": "code",
   "execution_count": null,
   "metadata": {},
   "outputs": [],
   "source": []
  },
  {
   "cell_type": "code",
   "execution_count": null,
   "metadata": {},
   "outputs": [],
   "source": []
  }
 ],
 "metadata": {
  "kernelspec": {
   "display_name": "fiscomp",
   "language": "python",
   "name": "python3"
  },
  "language_info": {
   "codemirror_mode": {
    "name": "ipython",
    "version": 3
   },
   "file_extension": ".py",
   "mimetype": "text/x-python",
   "name": "python",
   "nbconvert_exporter": "python",
   "pygments_lexer": "ipython3",
   "version": "3.13.2"
  }
 },
 "nbformat": 4,
 "nbformat_minor": 2
}
